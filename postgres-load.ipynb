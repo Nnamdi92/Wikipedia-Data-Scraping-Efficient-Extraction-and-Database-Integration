{
 "cells": [
  {
   "cell_type": "code",
   "execution_count": 50,
   "id": "ea562aaf",
   "metadata": {},
   "outputs": [],
   "source": [
    "import pandas as pd\n",
    "from sqlalchemy import create_engine\n",
    "import psycopg2\n",
    "\n"
   ]
  },
  {
   "cell_type": "code",
   "execution_count": 51,
   "id": "f85fd663",
   "metadata": {},
   "outputs": [],
   "source": [
    "df = pd.read_csv('universities-clean.csv')"
   ]
  },
  {
   "cell_type": "code",
   "execution_count": 63,
   "id": "c01a6e5d",
   "metadata": {},
   "outputs": [
    {
     "name": "stdout",
     "output_type": "stream",
     "text": [
      "✅ Connected to local PostgreSQL successfully!\n"
     ]
    }
   ],
   "source": [
    "\n",
    "\n",
    "try:\n",
    "    conn = psycopg2.connect(\n",
    "        host=\"localhost\",\n",
    "        port=5432,\n",
    "        user=\"amdariuser\",\n",
    "        password=\"amdariuserpassword\",\n",
    "        database=\"amdaridb\"\n",
    "    )\n",
    "    print(\"✅ Connected to local PostgreSQL successfully!\")\n",
    "    \n",
    "except Exception as e:\n",
    "    print(\"❌ Failed to connect:\", e)\n"
   ]
  },
  {
   "cell_type": "code",
   "execution_count": 65,
   "id": "a70714d9",
   "metadata": {},
   "outputs": [],
   "source": [
    "cursor = conn.cursor()"
   ]
  },
  {
   "cell_type": "code",
   "execution_count": 59,
   "id": "316479a6",
   "metadata": {},
   "outputs": [
    {
     "data": {
      "text/plain": [
       "'\\n-- Create tables for university ranking database in PostgreSQL\\n-- Database: university_ranking\\n\\n-- Drop tables if they exist (in reverse order to avoid FK conflicts)\\nDROP TABLE IF EXISTS InstitutionRanking;\\nDROP TABLE IF EXISTS Institution;\\nDROP TABLE IF EXISTS Location;\\nDROP TABLE IF EXISTS Country;\\nDROP TABLE IF EXISTS Continent;\\nDROP TABLE IF EXISTS Affiliation;\\nDROP TABLE IF EXISTS DeliveryMode;\\n\\n-- Create Continent table\\nCREATE TABLE Continent (\\n    ContinentID VARCHAR(4) PRIMARY KEY,\\n    ContinentName VARCHAR(50) NOT NULL UNIQUE\\n);\\n\\n-- Create Country table\\nCREATE TABLE Country (\\n    CountryID VARCHAR(4) PRIMARY KEY,\\n    CountryName VARCHAR(100) NOT NULL UNIQUE,\\n    ContinentID VARCHAR(4) NOT NULL,\\n    CONSTRAINT fk_country_continent FOREIGN KEY (ContinentID) REFERENCES Continent(ContinentID)\\n);\\n\\n-- Create Location table\\nCREATE TABLE Location (\\n    LocationID VARCHAR(4) PRIMARY KEY,\\n    City VARCHAR(100) NOT NULL,\\n    CountryID VARCHAR(4) NOT NULL,\\n    CONSTRAINT fk_location_country FOREIGN KEY (CountryID) REFERENCES Country(CountryID),\\n    CONSTRAINT unique_city_country UNIQUE (City, CountryID)\\n);\\n\\n-- Create Institution table\\nCREATE TABLE Institution (\\n    InstitutionID VARCHAR(4) PRIMARY KEY,\\n    InstitutionName VARCHAR(100) NOT NULL,\\n    Founded SMALLINT,\\n    Link VARCHAR(255),\\n    LocationID VARCHAR(4) NOT NULL,\\n    CONSTRAINT fk_institution_location FOREIGN KEY (LocationID) REFERENCES Location(LocationID)\\n);\\n\\n-- Create Affiliation table\\nCREATE TABLE Affiliation (\\n    AffiliationID VARCHAR(4) PRIMARY KEY,\\n    AffiliationType VARCHAR(50) NOT NULL UNIQUE\\n);\\n\\n-- Create DeliveryMode table\\nCREATE TABLE DeliveryMode (\\n    DeliveryModeID VARCHAR(4) PRIMARY KEY,\\n    DeliveryModeName VARCHAR(50) NOT NULL UNIQUE\\n);\\n\\n-- Create InstitutionRanking table\\nCREATE TABLE InstitutionRanking (\\n    RankingID VARCHAR(4) PRIMARY KEY,\\n    InstitutionID VARCHAR(4) NOT NULL,\\n    LocationID VARCHAR(4) NOT NULL,\\n    AffiliationID VARCHAR(4) NOT NULL,\\n    DeliveryModeID VARCHAR(4) NOT NULL,\\n    Enrollment INTEGER,\\n    Rank INTEGER NOT NULL,\\n    CONSTRAINT fk_ranking_institution FOREIGN KEY (InstitutionID) REFERENCES Institution(InstitutionID),\\n    CONSTRAINT fk_ranking_location FOREIGN KEY (LocationID) REFERENCES Location(LocationID),\\n    CONSTRAINT fk_ranking_affiliation FOREIGN KEY (AffiliationID) REFERENCES Affiliation(AffiliationID),\\n    CONSTRAINT fk_ranking_deliverymode FOREIGN KEY (DeliveryModeID) REFERENCES DeliveryMode(DeliveryModeID)\\n);\\n'"
      ]
     },
     "execution_count": 59,
     "metadata": {},
     "output_type": "execute_result"
    }
   ],
   "source": [
    "create_query_file = open('./sql/postgres_create_table.sql')\n",
    "create_query = create_query_file.read()\n",
    "create_query"
   ]
  },
  {
   "cell_type": "code",
   "execution_count": 60,
   "id": "d4e4a9a7",
   "metadata": {},
   "outputs": [],
   "source": [
    "cursor.execute(create_query)"
   ]
  },
  {
   "cell_type": "code",
   "execution_count": 61,
   "id": "7df6ea3a",
   "metadata": {},
   "outputs": [],
   "source": [
    "conn.commit()"
   ]
  },
  {
   "cell_type": "code",
   "execution_count": 42,
   "id": "f7aa730c",
   "metadata": {},
   "outputs": [],
   "source": [
    "engine = create_engine(\"postgresql+psycopg2://\", creator=lambda: conn)"
   ]
  },
  {
   "cell_type": "code",
   "execution_count": 43,
   "id": "2efd6da4",
   "metadata": {},
   "outputs": [
    {
     "data": {
      "text/html": [
       "<div>\n",
       "<style scoped>\n",
       "    .dataframe tbody tr th:only-of-type {\n",
       "        vertical-align: middle;\n",
       "    }\n",
       "\n",
       "    .dataframe tbody tr th {\n",
       "        vertical-align: top;\n",
       "    }\n",
       "\n",
       "    .dataframe thead th {\n",
       "        text-align: right;\n",
       "    }\n",
       "</style>\n",
       "<table border=\"1\" class=\"dataframe\">\n",
       "  <thead>\n",
       "    <tr style=\"text-align: right;\">\n",
       "      <th></th>\n",
       "      <th>continentid</th>\n",
       "      <th>continentname</th>\n",
       "    </tr>\n",
       "  </thead>\n",
       "  <tbody>\n",
       "  </tbody>\n",
       "</table>\n",
       "</div>"
      ],
      "text/plain": [
       "Empty DataFrame\n",
       "Columns: [continentid, continentname]\n",
       "Index: []"
      ]
     },
     "execution_count": 43,
     "metadata": {},
     "output_type": "execute_result"
    }
   ],
   "source": [
    "pd.read_sql(\"SELECT * FROM continent;\", con=engine)"
   ]
  },
  {
   "cell_type": "code",
   "execution_count": 89,
   "id": "28e2c126",
   "metadata": {},
   "outputs": [],
   "source": [
    "# 1. Read and parse the upsert SQL file by tags\n",
    "with open('./sql/postgres_upsert.sql') as f:\n",
    "    sql_blocks = f.read().split('--')\n",
    "    upsert_queries = {}\n",
    "    for block in sql_blocks:\n",
    "        lines = block.strip().splitlines()\n",
    "        if lines:\n",
    "            key = lines[0].strip().replace(\" \", \"_\").upper()  # normalize tag names\n",
    "            query = '\\n'.join(lines[1:])\n",
    "            upsert_queries[key] = query\n",
    "\n",
    "# 2. Loop through df and insert per table\n",
    "for row in df.itertuples(index=False):\n",
    "    cursor.execute(upsert_queries['CONTINENT'], (row.ContinentID, row.Continent))\n",
    "for row in df.itertuples(index=False):\n",
    "    cursor.execute(upsert_queries['COUNTRY'], (row.CountryID, row.Country, row.ContinentID))\n",
    "for row in df.itertuples(index=False):\n",
    "    cursor.execute(upsert_queries['LOCATION'], (row.LocationID, row.city, row.CountryID))\n",
    "for row in df.itertuples(index=False):\n",
    "    cursor.execute(upsert_queries['AFFILIATION'], (row.AffiliationID, row.Affiliation))\n",
    "for row in df.itertuples(index=False):\n",
    "    cursor.execute(upsert_queries['DELIVERYMODE'], (row.DeliveryModeID, row.DeliveryMode))\n",
    "for row in df.itertuples(index=False):\n",
    "    cursor.execute(upsert_queries['INSTITUTION'], (\n",
    "        row.InstitutionID, row.Institution, row.Founded,\n",
    "        row.link, row.LocationID\n",
    "    ))\n",
    "for row in df.itertuples(index=False):\n",
    "    cursor.execute(upsert_queries['INSTITUTIONRANKING'], (\n",
    "        row.RankingID, row.InstitutionID, row.LocationID, row.Enrollment,\n",
    "        row.AffiliationID, row.DeliveryModeID, row.Rank\n",
    "    ))\n",
    "\n",
    "# 3. Commit the transaction\n",
    "conn.commit()\n"
   ]
  }
 ],
 "metadata": {
  "kernelspec": {
   "display_name": "venv",
   "language": "python",
   "name": "python3"
  },
  "language_info": {
   "codemirror_mode": {
    "name": "ipython",
    "version": 3
   },
   "file_extension": ".py",
   "mimetype": "text/x-python",
   "name": "python",
   "nbconvert_exporter": "python",
   "pygments_lexer": "ipython3",
   "version": "3.13.1"
  }
 },
 "nbformat": 4,
 "nbformat_minor": 5
}
